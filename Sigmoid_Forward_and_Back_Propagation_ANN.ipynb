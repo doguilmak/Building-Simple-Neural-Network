{
  "cells": [
    {
      "cell_type": "markdown",
      "id": "19352d80",
      "metadata": {
        "id": "19352d80"
      },
      "source": [
        "<h1 align=center><font size = 6>Building Neural Networks with Two Neurons and Hidden Layers From Scratch</font></h1>\n",
        "\n",
        "<h1 align=center><font size = 4>Sigmoid Function</font></h1>"
      ]
    },
    {
      "cell_type": "markdown",
      "source": [
        "<img src=\"https://i.giphy.com/media/9N2UvCx7wXLnG/giphy.webp\" height=400 width=1000 alt=\"https://giphy.com/harvard/\">\n",
        "\n",
        "<small>Picture Source:<a href=\"https://giphy.com/harvard/\">https://giphy.com/harvard/</a></small>\n",
        "\n",
        "<br>\n",
        "\n",
        "<h2>Introduction</h2>\n",
        "<p>In this lab, we will build a neural network from scratch and code how it performs predictions using forward propagation. After doing forward propagation, we are going to use backpropagation. We are going to use sigmoid function for our model. The sigmoid function, also known as the sigmoidal curve, is one of the most common activation functions. sigmoid; It is a mathematical operation that compresses the input data between <i>0</i> and <i>1</i>. It is applied in neural networks to normalize the output signal of a neuron. It has a shape similar to an S shape.</p>\n",
        "\n",
        "<br>\n",
        "\n",
        "<p>It’s easy to work with and has all the nice properties of activation functions: it’s non-linear, continuously differentiable, monotonic, and has a fixed output range. Please note that all deep learning libraries have the entire training and prediction processes implemented.\n",
        "</p>\n",
        "\n",
        "<br>\n",
        "\n",
        "<h2>Objective:</h2>\n",
        "<ol>\n",
        "  <li>Build <i>Artifical Neural Networks (ANNs)</i> from scratch.</li>\n",
        "  <li>Calculate network output using forward propagation.</li>\n",
        "  <li>Calculate <i>loss</i> between <i>ground truth</i> and estimated output.</li>\n",
        "  <li>Update <i>weights</i> and <i>biases</i> throught <i>backpropagation</i>.</li>\n",
        "  <li>Repeate the above three steps until number of iterations is reached or error between <i>ground truth</i> (<i>T</i>) and <i>predicted output</i> (<i>a<sub>2</sub></i>) is below a predefined threshold.</li>\n",
        "</ol>\n",
        "\n",
        "<br>\n",
        "\n",
        "<h2>Keywords</h2>\n",
        "<ul>\n",
        "  <li>Computer Science</li>\n",
        "  <li>Classification</li>\n",
        "  <li>Sigmoid Function</li>\n",
        "  <li>Neural Networks</li>\n",
        "  <li>Scratch</li>\n",
        "</ul>\n",
        "<br>\n",
        "\n",
        "<h2>Table of Contents</h2>\n",
        "\n",
        "<div class=\"alert alert-block alert-info\" style=\"margin-top: 20px\">\n",
        "<li><a href=\"https://#import\">Import Libraries</a></li>\n",
        "<li><a href=\"https://#build_neural_network\">Building Simple Neural Network</a></li>\n",
        "<li><a href=\"https://#build_func\">Building Function for Artificial Neural Network with Sigmoid Function</a></li>\n",
        "<li><a href=\"https://#build_func_with_grph\">Building Function for Artificial Neural Network with Sigmoid Function and Loss Graph</a></li>\n",
        "<br>\n",
        "\n",
        "<p></p>\n",
        "Estimated Time Needed: <strong>15 min</strong>\n",
        "</div>"
      ],
      "metadata": {
        "id": "059OotqOugT9"
      },
      "id": "059OotqOugT9"
    },
    {
      "cell_type": "markdown",
      "id": "632b6158",
      "metadata": {
        "id": "632b6158"
      },
      "source": [
        "<br>\n",
        "<h2 align=center id=\"import\">Import Libraries</h2>\n",
        "<p>The following are the libraries we are going to use for this lab:</p>"
      ]
    },
    {
      "cell_type": "code",
      "source": [
        "import matplotlib.pyplot as plt\n",
        "import numpy as np\n",
        "from IPython.display import Image\n",
        "import seaborn as sns"
      ],
      "metadata": {
        "id": "xGxuFU0XyMhR"
      },
      "id": "xGxuFU0XyMhR",
      "execution_count": 1,
      "outputs": []
    },
    {
      "cell_type": "code",
      "source": [
        "!unzip -q images.zip"
      ],
      "metadata": {
        "id": "9BFQUuOB7Oe7"
      },
      "id": "9BFQUuOB7Oe7",
      "execution_count": 2,
      "outputs": []
    },
    {
      "cell_type": "markdown",
      "source": [
        "<br>\n",
        "<h2 align=center id=\"build_neural_network\">Building Simple Neural Network</h2>\n",
        "<p>The following are the libraries we are going to use for this lab:</p>"
      ],
      "metadata": {
        "id": "aT2nTFb3ySbj"
      },
      "id": "aT2nTFb3ySbj"
    },
    {
      "cell_type": "code",
      "execution_count": 3,
      "id": "efd58b59",
      "metadata": {
        "colab": {
          "base_uri": "https://localhost:8080/",
          "height": 784
        },
        "id": "efd58b59",
        "outputId": "4c7983bc-cadd-481b-b93d-3e436f3015af"
      },
      "outputs": [
        {
          "output_type": "execute_result",
          "data": {
            "image/jpeg": "[encoded data removed]",
            "text/plain": [
              "<IPython.core.display.Image object>"
            ]
          },
          "metadata": {
            "image/jpeg": {
              "width": 1000
            }
          },
          "execution_count": 3
        }
      ],
      "source": [
        "Image(filename='image_folder/back_prop.jpg', width=1000)"
      ]
    },
    {
      "cell_type": "markdown",
      "id": "1ec8d45d",
      "metadata": {
        "id": "1ec8d45d"
      },
      "source": [
        "<br>\n",
        "<h3>Creating parameters</h3>"
      ]
    },
    {
      "cell_type": "code",
      "execution_count": 4,
      "id": "448a831b",
      "metadata": {
        "id": "448a831b"
      },
      "outputs": [],
      "source": [
        "weights = [0.15, 0.45]\n",
        "biases = [0.40, 0.65] \n",
        "T = 0.25 #@param {type:\"number\"}\n",
        "lr = 0.4 #@param {type:\"number\"}\n",
        "threshold = 0.001 #@param {type:\"number\"}\n",
        "epochs = 300 #@param {type:\"number\"}"
      ]
    },
    {
      "cell_type": "markdown",
      "id": "1816b887",
      "metadata": {
        "id": "1816b887"
      },
      "source": [
        "Let's print the weights and biases"
      ]
    },
    {
      "cell_type": "code",
      "execution_count": 5,
      "id": "65f0f15e",
      "metadata": {
        "colab": {
          "base_uri": "https://localhost:8080/"
        },
        "id": "65f0f15e",
        "outputId": "21737795-e266-4947-b795-b60de11b30c3"
      },
      "outputs": [
        {
          "output_type": "stream",
          "name": "stdout",
          "text": [
            "[0.15, 0.45]\n",
            "[0.4, 0.65]\n"
          ]
        }
      ],
      "source": [
        "print(weights)\n",
        "print(biases)"
      ]
    },
    {
      "cell_type": "markdown",
      "id": "e18e6f3a",
      "metadata": {
        "id": "e18e6f3a"
      },
      "source": [
        "<br>\n",
        "<h3>Weights</h3>"
      ]
    },
    {
      "cell_type": "code",
      "execution_count": 6,
      "id": "919070f0",
      "metadata": {
        "colab": {
          "base_uri": "https://localhost:8080/"
        },
        "id": "919070f0",
        "outputId": "7cfa6017-d386-4e69-fa5c-b6238181f345"
      },
      "outputs": [
        {
          "output_type": "stream",
          "name": "stdout",
          "text": [
            "\n",
            "w₁: 0.15\n",
            "w₂: 0.45\n"
          ]
        }
      ],
      "source": [
        "print(f'\\nw\\u2081: {weights[0]}') #  weight 1\n",
        "print(f'w\\u2082: {weights[1]}') #  weight 2"
      ]
    },
    {
      "cell_type": "markdown",
      "id": "e7adf224",
      "metadata": {
        "id": "e7adf224"
      },
      "source": [
        "<br>\n",
        "<h3>Biases</h3>"
      ]
    },
    {
      "cell_type": "code",
      "execution_count": 7,
      "id": "cc889ce3",
      "metadata": {
        "colab": {
          "base_uri": "https://localhost:8080/"
        },
        "id": "cc889ce3",
        "outputId": "5a05bf94-b81b-41f9-c1aa-939e79d336a1"
      },
      "outputs": [
        {
          "output_type": "stream",
          "name": "stdout",
          "text": [
            "\n",
            "b₁: 0.4\n",
            "b₂: 0.65\n"
          ]
        }
      ],
      "source": [
        "print(f'\\nb\\u2081: {biases[0]}') #  bias 1\n",
        "print(f'b\\u2082: {biases[1]}') #  bias 2"
      ]
    },
    {
      "cell_type": "markdown",
      "id": "f6f10d78",
      "metadata": {
        "id": "f6f10d78"
      },
      "source": [
        "Now that we have the weights and the biases defined for the network, let's compute the output for a given input x<sub>1</sub>."
      ]
    },
    {
      "cell_type": "code",
      "execution_count": 8,
      "id": "a6ba5e6e",
      "metadata": {
        "colab": {
          "base_uri": "https://localhost:8080/"
        },
        "id": "a6ba5e6e",
        "outputId": "9e83e13c-3ac8-444a-f410-5b62ec49f45f"
      },
      "outputs": [
        {
          "output_type": "stream",
          "name": "stdout",
          "text": [
            "Input of our network: 0.1\n"
          ]
        }
      ],
      "source": [
        "x_1 = 0.1\n",
        "print(f\"Input of our network: {x_1}\")"
      ]
    },
    {
      "cell_type": "markdown",
      "id": "902d01b0",
      "metadata": {
        "id": "902d01b0"
      },
      "source": [
        "<br>\n",
        "<h3>Building Sigmoid Function for the Neural Network</h3>"
      ]
    },
    {
      "cell_type": "markdown",
      "source": [
        "<h4>Sigmoid function:</h4>"
      ],
      "metadata": {
        "id": "4zizqh8a9y3P"
      },
      "id": "4zizqh8a9y3P"
    },
    {
      "cell_type": "markdown",
      "source": [
        "$$\\sigma(x) = \\frac{1} {1 + e^{-x}}$$"
      ],
      "metadata": {
        "id": "xDj78YXi9ZVx"
      },
      "id": "xDj78YXi9ZVx"
    },
    {
      "cell_type": "markdown",
      "source": [
        "<h4>Derivative of the sigmoid function:</h4>\n"
      ],
      "metadata": {
        "id": "STjyYBkR91ye"
      },
      "id": "STjyYBkR91ye"
    },
    {
      "cell_type": "markdown",
      "source": [
        "$$\\sigma'(x) = \\sigma(x) \\cdot (1-\\sigma(x))$$"
      ],
      "metadata": {
        "id": "1m20SK3I931u"
      },
      "id": "1m20SK3I931u"
    },
    {
      "cell_type": "code",
      "execution_count": 9,
      "id": "0898b843",
      "metadata": {
        "id": "0898b843"
      },
      "outputs": [],
      "source": [
        "def sigmoid(x):\n",
        "    s = 1 / (1 + np.exp(-x))\n",
        "    ds = s * (1 - s)  \n",
        "    return s, ds"
      ]
    },
    {
      "cell_type": "markdown",
      "id": "ae88d7a0",
      "metadata": {
        "id": "ae88d7a0"
      },
      "source": [
        "<br>\n",
        "<h3>Calculate a<sub>2</sub> and Error</h3>"
      ]
    },
    {
      "cell_type": "markdown",
      "id": "bb3a6b36",
      "metadata": {
        "id": "bb3a6b36"
      },
      "source": [
        "Let's start by computing the wighted sum of the input, z<sub>1</sub> at the first node of the hidden layer."
      ]
    },
    {
      "cell_type": "code",
      "execution_count": 10,
      "id": "6ddb94eb",
      "metadata": {
        "colab": {
          "base_uri": "https://localhost:8080/"
        },
        "id": "6ddb94eb",
        "outputId": "54547578-07b6-41c2-ccd4-41d320c86456"
      },
      "outputs": [
        {
          "output_type": "stream",
          "name": "stdout",
          "text": [
            "The weighted sum of the input at the first node in the first hidden layer is 0.41500000000000004\n"
          ]
        }
      ],
      "source": [
        "z_1 = x_1 * weights[0] + biases[0]\n",
        "\n",
        "print('The weighted sum of the input at the first node in the first hidden layer is {}'.format(z_1))"
      ]
    },
    {
      "cell_type": "markdown",
      "id": "f3a64c84",
      "metadata": {
        "id": "f3a64c84"
      },
      "source": [
        "Using a sigmoid function as the activation function, the output of the network would be 0.6023."
      ]
    },
    {
      "cell_type": "code",
      "execution_count": 11,
      "id": "85a667ee",
      "metadata": {
        "colab": {
          "base_uri": "https://localhost:8080/"
        },
        "id": "85a667ee",
        "outputId": "0524c0d0-2497-4898-c503-c2690def0c75"
      },
      "outputs": [
        {
          "output_type": "execute_result",
          "data": {
            "text/plain": [
              "0.6022861768886306"
            ]
          },
          "metadata": {},
          "execution_count": 11
        }
      ],
      "source": [
        "a_1 = sigmoid(z_1)[0]\n",
        "a_1"
      ]
    },
    {
      "cell_type": "markdown",
      "id": "55e483d8",
      "metadata": {
        "id": "55e483d8"
      },
      "source": [
        "Let's start computing the wighted sum of the input, z<sub>2</sub> at the first node of second hidden layer."
      ]
    },
    {
      "cell_type": "code",
      "execution_count": 12,
      "id": "6564bb09",
      "metadata": {
        "colab": {
          "base_uri": "https://localhost:8080/"
        },
        "id": "6564bb09",
        "outputId": "d7fa6689-dc0a-4a96-ccc2-fe158df6fc17"
      },
      "outputs": [
        {
          "output_type": "stream",
          "name": "stdout",
          "text": [
            "The weighted sum of the input at the first node in second hidden layer is 0.9210287795998838\n"
          ]
        }
      ],
      "source": [
        "z_2 = a_1 * weights[1] + biases[1]\n",
        "\n",
        "print('The weighted sum of the input at the first node in second hidden layer is {}'.format(z_2))"
      ]
    },
    {
      "cell_type": "code",
      "execution_count": 13,
      "id": "8717bde3",
      "metadata": {
        "colab": {
          "base_uri": "https://localhost:8080/"
        },
        "id": "8717bde3",
        "outputId": "c0840b85-82e2-49bf-f1f5-f6d1f25ab55e"
      },
      "outputs": [
        {
          "output_type": "stream",
          "name": "stdout",
          "text": [
            "Model predicted or estimated as 0.7152516802527555\n"
          ]
        }
      ],
      "source": [
        "a_2 = sigmoid(z_2)[0]\n",
        "print(f'Model predicted or estimated as {a_2}')"
      ]
    },
    {
      "cell_type": "markdown",
      "id": "1a2efd61",
      "metadata": {
        "id": "1a2efd61"
      },
      "source": [
        "Let's calculate error between predicted output (a<sub>2</sub>) and the ground truth (T)"
      ]
    },
    {
      "cell_type": "code",
      "execution_count": 14,
      "id": "d38fd12b",
      "metadata": {
        "colab": {
          "base_uri": "https://localhost:8080/"
        },
        "id": "d38fd12b",
        "outputId": "97c9b93f-3459-417e-a692-68e2888ac508"
      },
      "outputs": [
        {
          "output_type": "execute_result",
          "data": {
            "text/plain": [
              "0.10822956298900614"
            ]
          },
          "metadata": {},
          "execution_count": 14
        }
      ],
      "source": [
        "E = 1 / 2 * (T - a_2) ** 2\n",
        "E"
      ]
    },
    {
      "cell_type": "markdown",
      "id": "ca9a8a8e",
      "metadata": {
        "id": "ca9a8a8e"
      },
      "source": [
        "<br>\n",
        "<h3>Updating Weights and Biases</h3>"
      ]
    },
    {
      "cell_type": "markdown",
      "id": "2c97f8c5",
      "metadata": {
        "id": "2c97f8c5"
      },
      "source": [
        "<br>\n",
        "<h4>Updating w<sub>2</sub></h4>"
      ]
    },
    {
      "cell_type": "code",
      "execution_count": 15,
      "id": "70baeffa",
      "metadata": {
        "colab": {
          "base_uri": "https://localhost:8080/",
          "height": 159
        },
        "id": "70baeffa",
        "outputId": "1242de65-4a22-4318-af39-7b1639c6b41b"
      },
      "outputs": [
        {
          "output_type": "execute_result",
          "data": {
            "image/png": "[encoded data removed]",
            "text/plain": [
              "<IPython.core.display.Image object>"
            ]
          },
          "metadata": {
            "image/png": {
              "width": 1000
            }
          },
          "execution_count": 15
        }
      ],
      "source": [
        "Image(filename='image_folder/update_w2.png', width=1000)"
      ]
    },
    {
      "cell_type": "code",
      "execution_count": 16,
      "id": "2e5905fc",
      "metadata": {
        "colab": {
          "base_uri": "https://localhost:8080/"
        },
        "id": "2e5905fc",
        "outputId": "a67b6618-a9d2-4583-915e-c372d9b4d132"
      },
      "outputs": [
        {
          "output_type": "stream",
          "name": "stdout",
          "text": [
            "Updated w₂ value is 0.4252775600684266\n"
          ]
        }
      ],
      "source": [
        "weights[1] = weights[1] - lr * (-(T - a_2)) * sigmoid(a_2)[1] * a_1\n",
        "\n",
        "print(f'Updated w\\u2082 value is {weights[1]}')"
      ]
    },
    {
      "cell_type": "markdown",
      "id": "7e43730c",
      "metadata": {
        "id": "7e43730c"
      },
      "source": [
        "<br>\n",
        "<h4>Updating b<sub>2</sub></h4>"
      ]
    },
    {
      "cell_type": "code",
      "execution_count": 17,
      "id": "570f7f69",
      "metadata": {
        "colab": {
          "base_uri": "https://localhost:8080/",
          "height": 152
        },
        "id": "570f7f69",
        "outputId": "8c931e50-ea5d-4d41-edae-fc4aeb870aaa"
      },
      "outputs": [
        {
          "output_type": "execute_result",
          "data": {
            "image/png": "[encoded data removed]",
            "text/plain": [
              "<IPython.core.display.Image object>"
            ]
          },
          "metadata": {
            "image/png": {
              "width": 1000
            }
          },
          "execution_count": 17
        }
      ],
      "source": [
        "Image(filename='image_folder/update_b2.png', width=1000)"
      ]
    },
    {
      "cell_type": "code",
      "execution_count": 18,
      "id": "3dcc74d9",
      "metadata": {
        "colab": {
          "base_uri": "https://localhost:8080/"
        },
        "id": "3dcc74d9",
        "outputId": "840134d5-89b5-40c0-fc8e-300a4522e2ac"
      },
      "outputs": [
        {
          "output_type": "stream",
          "name": "stdout",
          "text": [
            "Updated b₂ value is 0.6089523371442993\n"
          ]
        }
      ],
      "source": [
        "biases[1] = biases[1] - lr * (-(T - a_2)) * sigmoid(a_2)[1] * 1\n",
        "\n",
        "print(f'Updated b\\u2082 value is {biases[1]}')"
      ]
    },
    {
      "cell_type": "markdown",
      "id": "d33b4a45",
      "metadata": {
        "id": "d33b4a45"
      },
      "source": [
        "<br>\n",
        "<h4>Updating w<sub>1</sub></h4>"
      ]
    },
    {
      "cell_type": "code",
      "execution_count": 19,
      "id": "a420dff7",
      "metadata": {
        "colab": {
          "base_uri": "https://localhost:8080/",
          "height": 144
        },
        "id": "a420dff7",
        "outputId": "e2af9898-da2e-455f-e711-3807a79014b2"
      },
      "outputs": [
        {
          "output_type": "execute_result",
          "data": {
            "image/png": "[encoded data removed]",
            "text/plain": [
              "<IPython.core.display.Image object>"
            ]
          },
          "metadata": {
            "image/png": {
              "width": 1000
            }
          },
          "execution_count": 19
        }
      ],
      "source": [
        "Image(filename='image_folder/update_w1.png', width=1000)"
      ]
    },
    {
      "cell_type": "code",
      "execution_count": 20,
      "id": "1b825ea4",
      "metadata": {
        "colab": {
          "base_uri": "https://localhost:8080/"
        },
        "id": "1b825ea4",
        "outputId": "714a4648-8aab-45f6-dcf4-49434e73c6d8"
      },
      "outputs": [
        {
          "output_type": "stream",
          "name": "stdout",
          "text": [
            "Updated w₁ value is 0.14960088573400288\n"
          ]
        }
      ],
      "source": [
        "weights[0] = weights[0] - lr * (-(T - a_2)) * sigmoid(a_2)[1] * weights[1] * sigmoid(a_1)[1] * x_1\n",
        "\n",
        "print(f'Updated w\\u2081 value is {weights[0]}')"
      ]
    },
    {
      "cell_type": "markdown",
      "id": "2ffd6475",
      "metadata": {
        "id": "2ffd6475"
      },
      "source": [
        "<br>\n",
        "<h4>Updating b<sub>1</sub></h4>"
      ]
    },
    {
      "cell_type": "code",
      "execution_count": 21,
      "id": "6f8c70b3",
      "metadata": {
        "colab": {
          "base_uri": "https://localhost:8080/",
          "height": 150
        },
        "id": "6f8c70b3",
        "outputId": "697b08f9-3152-4706-eb1b-9ed900836078"
      },
      "outputs": [
        {
          "output_type": "execute_result",
          "data": {
            "image/png": "[encoded data removed]",
            "text/plain": [
              "<IPython.core.display.Image object>"
            ]
          },
          "metadata": {
            "image/png": {
              "width": 1000
            }
          },
          "execution_count": 21
        }
      ],
      "source": [
        "Image(filename='image_folder/update_b1.png', width=1000)"
      ]
    },
    {
      "cell_type": "code",
      "execution_count": 22,
      "id": "3b4ca5ac",
      "metadata": {
        "colab": {
          "base_uri": "https://localhost:8080/"
        },
        "id": "3b4ca5ac",
        "outputId": "585e330f-da65-4b6f-92c4-1dbcae517bfc"
      },
      "outputs": [
        {
          "output_type": "stream",
          "name": "stdout",
          "text": [
            "Updated b₁ value is 0.3960088573400289\n"
          ]
        }
      ],
      "source": [
        "biases[0] = biases[0] - lr * (-(T - a_2)) * sigmoid(a_2)[1] * weights[1] * sigmoid(a_1)[1] * 1\n",
        "\n",
        "print(f'Updated b\\u2081 value is {biases[0]}')"
      ]
    },
    {
      "cell_type": "markdown",
      "id": "2afaeb26",
      "metadata": {
        "id": "2afaeb26"
      },
      "source": [
        "Let's print out our updated biases and weights:"
      ]
    },
    {
      "cell_type": "code",
      "execution_count": 23,
      "id": "9433db3a",
      "metadata": {
        "colab": {
          "base_uri": "https://localhost:8080/"
        },
        "id": "9433db3a",
        "outputId": "4074c30b-27db-4afe-ed21-587b8d214063"
      },
      "outputs": [
        {
          "output_type": "stream",
          "name": "stdout",
          "text": [
            "[0.14960088573400288, 0.4252775600684266]\n",
            "[0.3960088573400289, 0.6089523371442993]\n",
            "\n",
            "w₁: 0.14960088573400288\n",
            "w₂: 0.4252775600684266\n",
            "\n",
            "b₁: 0.3960088573400289\n",
            "b₂: 0.6089523371442993\n"
          ]
        }
      ],
      "source": [
        "print(weights)\n",
        "print(biases)\n",
        "print(f'\\nw\\u2081: {weights[0]}') #  weight 1\n",
        "print(f'w\\u2082: {weights[1]}') #  weight 2\n",
        "print(f'\\nb\\u2081: {biases[0]}') #  bias 1\n",
        "print(f'b\\u2082: {biases[1]}') #  bias 2"
      ]
    },
    {
      "cell_type": "markdown",
      "id": "6bf945c6",
      "metadata": {
        "id": "6bf945c6"
      },
      "source": [
        "<br>\n",
        "<h2 align=center id=\"build_func\">Building Function for Artificial Neural Network with Sigmoid Function</h2>\n",
        "\n",
        "<p>At this stage, a function covering the processes and stages done so far has been created. You are completely free to make changes to the parameters.</p>\n"
      ]
    },
    {
      "cell_type": "code",
      "execution_count": 24,
      "id": "6c2a77fa",
      "metadata": {
        "id": "6c2a77fa"
      },
      "outputs": [],
      "source": [
        "def forw_backProp(x_1, w_1, w_2, b_1, b_2, T, lr, treshold, epochs):\n",
        "    \n",
        "    i = 0\n",
        "    while i < epochs:\n",
        "        \n",
        "        # Calculate z_1\n",
        "        z_1 = x_1 * w_1 + b_1\n",
        "        # Calculate a_1\n",
        "        a_1 = 1.0 / (1.0 + np.exp(-z_1))\n",
        "        # Calculate z_2\n",
        "        z_2 = a_1 * w_2 + b_2\n",
        "        # Calculate a_2\n",
        "        a_2 = 1.0 / (1.0 + np.exp(-z_2))        \n",
        "        # Calculate error between predicted value and the ground truth.\n",
        "        E = 1 / 2 * (T - a_2) ** 2\n",
        "\n",
        "        # Updating weights and biases\n",
        "        w_2 = w_2 - lr * (-(T - a_2)) * sigmoid(a_2)[1] * a_1\n",
        "        b_2 = b_2 - lr * (-(T - a_2)) * sigmoid(a_2)[1] * 1\n",
        "        w_1 = w_1 - lr * (-(T - a_2)) * sigmoid(a_2)[1] * w_2 * sigmoid(a_1)[1] * x_1\n",
        "        b_1 = b_1 - lr * (-(T - a_2)) * sigmoid(a_2)[1] * w_2 * sigmoid(a_1)[1] * 1        \n",
        "        i+=1\n",
        "        \n",
        "        ## print(f'\\nw\\u2081: {w_1}') #  weight 1\n",
        "        ## print(f'w\\u2082: {w_2}') #  weight 2\n",
        "        ## print(f'\\nb\\u2081: {b_1}') #  bias 1\n",
        "        ## print(f'b\\u2082: {b_2}') #  bias 2\n",
        "        \n",
        "        print(f'\\nEpoch {i} - Loss {E} - Output {a_2}')\n",
        "        \n",
        "    "
      ]
    },
    {
      "cell_type": "code",
      "execution_count": 25,
      "id": "353d4655",
      "metadata": {
        "colab": {
          "base_uri": "https://localhost:8080/"
        },
        "id": "353d4655",
        "outputId": "0863202d-039e-4861-d876-8bc8c03bcaa4"
      },
      "outputs": [
        {
          "output_type": "stream",
          "name": "stdout",
          "text": [
            "\n",
            "Epoch 1 - Loss 0.10822956298900614 - Output 0.7152516802527555\n",
            "\n",
            "Epoch 2 - Loss 0.10289352658176308 - Output 0.7036375790909811\n",
            "\n",
            "Epoch 3 - Loss 0.09769380528668406 - Output 0.6920267079864837\n",
            "\n",
            "Epoch 4 - Loss 0.09264210851569407 - Output 0.6804465321400419\n",
            "\n",
            "Epoch 5 - Loss 0.08774841113506929 - Output 0.668923408596534\n",
            "\n",
            "Epoch 6 - Loss 0.08302093412516884 - Output 0.6574823532993026\n",
            "\n",
            "Epoch 7 - Loss 0.07846616147051715 - Output 0.6461468451736481\n",
            "\n",
            "Epoch 8 - Loss 0.0740888895339867 - Output 0.6349386692292337\n",
            "\n",
            "Epoch 9 - Loss 0.0698923043728766 - Output 0.6238777992148681\n",
            "\n",
            "Epoch 10 - Loss 0.06587808196443447 - Output 0.6129823190306505\n",
            "\n",
            "Epoch 11 - Loss 0.06204650611107128 - Output 0.6022683809571086\n",
            "\n",
            "Epoch 12 - Loss 0.058396598860049144 - Output 0.591750197834761\n",
            "\n",
            "Epoch 13 - Loss 0.05492625855486813 - Output 0.5814400656374185\n",
            "\n",
            "Epoch 14 - Loss 0.05163240108503626 - Output 0.5713484124281191\n",
            "\n",
            "Epoch 15 - Loss 0.04851110046478337 - Output 0.5614838694532459\n",
            "\n",
            "Epoch 16 - Loss 0.04555772549966421 - Output 0.5518533600928246\n",
            "\n",
            "Epoch 17 - Loss 0.04276706994887213 - Output 0.542462202511272\n",
            "\n",
            "Epoch 18 - Loss 0.04013347422425992 - Output 0.5333142221077506\n",
            "\n",
            "Epoch 19 - Loss 0.03765093725702234 - Output 0.5244118702134525\n",
            "\n",
            "Epoch 20 - Loss 0.03531321769079775 - Output 0.5157563458914867\n",
            "\n",
            "Epoch 21 - Loss 0.03311392401446382 - Output 0.5073477181342932\n",
            "\n",
            "Epoch 22 - Loss 0.031046593624643036 - Output 0.4991850461991772\n",
            "\n",
            "Epoch 23 - Loss 0.029104761107653074 - Output 0.4912664962552947\n",
            "\n",
            "Epoch 24 - Loss 0.02728201625795087 - Output 0.4835894529209351\n",
            "\n",
            "Epoch 25 - Loss 0.025572052512193882 - Output 0.47615062463850893\n",
            "\n",
            "Epoch 26 - Loss 0.023968706583507055 - Output 0.46894614216061015\n",
            "\n",
            "Epoch 27 - Loss 0.022465990138570865 - Output 0.4619716497014205\n",
            "\n",
            "Epoch 28 - Loss 0.02105811437979938 - Output 0.45522238854374236\n",
            "\n",
            "Epoch 29 - Loss 0.01973950838463097 - Output 0.4486932730850794\n",
            "\n",
            "Epoch 30 - Loss 0.01850483202141027 - Output 0.44237895945976147\n",
            "\n",
            "Epoch 31 - Loss 0.01734898421306499 - Output 0.4362739069921764\n",
            "\n",
            "Epoch 32 - Loss 0.016267107261280524 - Output 0.4303724328232035\n",
            "\n",
            "Epoch 33 - Loss 0.015254587879606952 - Output 0.4246687601124308\n",
            "\n",
            "Epoch 34 - Loss 0.014307055517403203 - Output 0.4191570602570475\n",
            "\n",
            "Epoch 35 - Loss 0.01342037849038994 - Output 0.41383148958847893\n",
            "\n",
            "Epoch 36 - Loss 0.012590658369777864 - Output 0.40868622101353264\n",
            "\n",
            "Epoch 37 - Loss 0.011814223021794688 - Output 0.40371547106127403\n",
            "\n",
            "Epoch 38 - Loss 0.011087618633793279 - Output 0.3989135227828103\n",
            "\n",
            "Epoch 39 - Loss 0.010407601012451419 - Output 0.3942747449309921\n",
            "\n",
            "Epoch 40 - Loss 0.009771126394037995 - Output 0.38979360782266115\n",
            "\n",
            "Epoch 41 - Loss 0.009175341966281128 - Output 0.3854646962590706\n",
            "\n",
            "Epoch 42 - Loss 0.008617576265832965 - Output 0.3812827198517228\n",
            "\n",
            "Epoch 43 - Loss 0.00809532958439175 - Output 0.37724252107209877\n",
            "\n",
            "Epoch 44 - Loss 0.007606264489853109 - Output 0.37333908131531635\n",
            "\n",
            "Epoch 45 - Loss 0.007148196546035193 - Output 0.3695675252402189\n",
            "\n",
            "Epoch 46 - Loss 0.006719085295155499 - Output 0.36592312362212726\n",
            "\n",
            "Epoch 47 - Loss 0.0063170255509434866 - Output 0.36240129492976036\n",
            "\n",
            "Epoch 48 - Loss 0.005940239036677628 - Output 0.358997605814785\n",
            "\n",
            "Epoch 49 - Loss 0.0055870663911919685 - Output 0.35570777068117526\n",
            "\n",
            "Epoch 50 - Loss 0.0052559595566858 - Output 0.3525276504820607\n",
            "\n",
            "Epoch 51 - Loss 0.004945474554701821 - Output 0.3494532508739842\n",
            "\n",
            "Epoch 52 - Loss 0.004654264650655989 - Output 0.3464807198424223\n",
            "\n",
            "Epoch 53 - Loss 0.004381073902576658 - Output 0.3436063448979465\n",
            "\n",
            "Epoch 54 - Loss 0.00412473108604208 - Output 0.34082654992943506\n",
            "\n",
            "Epoch 55 - Loss 0.0038841439845194196 - Output 0.3381378917891666\n",
            "\n",
            "Epoch 56 - Loss 0.0036582940322543063 - Output 0.33553705667433625\n",
            "\n",
            "Epoch 57 - Loss 0.0034462312954081 - Output 0.33302085636041223\n",
            "\n",
            "Epoch 58 - Loss 0.003247069776181136 - Output 0.33058622433370527\n",
            "\n",
            "Epoch 59 - Loss 0.003059983024098523 - Output 0.3282302118634294\n",
            "\n",
            "Epoch 60 - Loss 0.002884200038394027 - Output 0.3259499840473193\n",
            "\n",
            "Epoch 61 - Loss 0.002719001445438531 - Output 0.323742815859425\n",
            "\n",
            "Epoch 62 - Loss 0.002563715935368682 - Output 0.32160608822395875\n",
            "\n",
            "Epoch 63 - Loss 0.0024177169424315567 - Output 0.3195372841349381\n",
            "\n",
            "Epoch 64 - Loss 0.0022804195540353234 - Output 0.3175339848377885\n",
            "\n",
            "Epoch 65 - Loss 0.0021512776340520652 - Output 0.31559386608596973\n",
            "\n",
            "Epoch 66 - Loss 0.0020297811465323054 - Output 0.31371469448302025\n",
            "\n",
            "Epoch 67 - Loss 0.0019154536666405016 - Output 0.3118943239181187\n",
            "\n",
            "Epoch 68 - Loss 0.001807850066290398 - Output 0.31013069210129546\n",
            "\n",
            "Epoch 69 - Loss 0.0017065543626359186 - Output 0.3084218172027526\n",
            "\n",
            "Epoch 70 - Loss 0.001611177718246369 - Output 0.30676579459932485\n",
            "\n",
            "Epoch 71 - Loss 0.0015213565824568763 - Output 0.3051607937299107\n",
            "\n",
            "Epoch 72 - Loss 0.0014367509640298103 - Output 0.30360505506069013\n",
            "\n",
            "Epoch 73 - Loss 0.0013570428258861292 - Output 0.30209688716010064\n",
            "\n",
            "Epoch 74 - Loss 0.001281934593263902 - Output 0.3006346638828363\n",
            "\n",
            "Epoch 75 - Loss 0.0012111477672330318 - Output 0.29921682166156266\n",
            "\n",
            "Epoch 76 - Loss 0.001144421636038434 - Output 0.29784185690456494\n",
            "\n",
            "Epoch 77 - Loss 0.0010815120772586864 - Output 0.29650832349716955\n",
            "\n",
            "Epoch 78 - Loss 0.0010221904442530344 - Output 0.295214830404482\n",
            "\n",
            "Epoch 79 - Loss 0.0009662425308267896 - Output 0.2939600393727483\n",
            "\n",
            "Epoch 80 - Loss 0.0009134676084747129 - Output 0.2927426627264777\n",
            "\n",
            "Epoch 81 - Loss 0.0008636775309640653 - Output 0.2915614612583356\n",
            "\n",
            "Epoch 82 - Loss 0.0008166959013953258 - Output 0.2904152422087342\n",
            "\n",
            "Epoch 83 - Loss 0.0007723572972297537 - Output 0.2893028573319995\n",
            "\n",
            "Epoch 84 - Loss 0.0007305065491004225 - Output 0.28822320104597265\n",
            "\n",
            "Epoch 85 - Loss 0.0006909980695282716 - Output 0.28717520866190993\n",
            "\n",
            "Epoch 86 - Loss 0.0006536952279483378 - Output 0.2861578546915698\n",
            "\n",
            "Epoch 87 - Loss 0.000618469768714847 - Output 0.2851701512284166\n",
            "\n",
            "Epoch 88 - Loss 0.0005852012689985946 - Output 0.2842111463999263\n",
            "\n",
            "Epoch 89 - Loss 0.0005537766337170531 - Output 0.28327992288804327\n",
            "\n",
            "Epoch 90 - Loss 0.0005240896248482218 - Output 0.28237559651491295\n",
            "\n",
            "Epoch 91 - Loss 0.0004960404226743511 - Output 0.28149731489109353\n",
            "\n",
            "Epoch 92 - Loss 0.00046953521668242307 - Output 0.28064425612353555\n",
            "\n",
            "Epoch 93 - Loss 0.0004444858240156813 - Output 0.2798156275807061\n",
            "\n",
            "Epoch 94 - Loss 0.0004208093335254758 - Output 0.2790106647123252\n",
            "\n",
            "Epoch 95 - Loss 0.0003984277736161074 - Output 0.27822862992127345\n",
            "\n",
            "Epoch 96 - Loss 0.0003772678022080252 - Output 0.27746881148532004\n",
            "\n",
            "Epoch 97 - Loss 0.00035726041726761215 - Output 0.27673052252641583\n",
            "\n",
            "Epoch 98 - Loss 0.00033834068646525114 - Output 0.2760131000253815\n",
            "\n",
            "Epoch 99 - Loss 0.00032044749462854495 - Output 0.2753159038799149\n",
            "\n",
            "Epoch 100 - Loss 0.00030352330775465443 - Output 0.27463831600392585\n",
            "\n",
            "Epoch 101 - Loss 0.00028751395243566645 - Output 0.2739797394662939\n",
            "\n",
            "Epoch 102 - Loss 0.00027236840963399425 - Output 0.27333959766722615\n",
            "\n",
            "Epoch 103 - Loss 0.00025803862182179136 - Output 0.272717333550476\n",
            "\n",
            "Epoch 104 - Loss 0.0002444793125694037 - Output 0.2721124088497569\n",
            "\n",
            "Epoch 105 - Loss 0.0002316478177338175 - Output 0.2715243033677663\n",
            "\n",
            "Epoch 106 - Loss 0.00021950392745886946 - Output 0.2709525142863032\n",
            "\n",
            "Epoch 107 - Loss 0.0002080097382554066 - Output 0.27039655550603614\n",
            "\n",
            "Epoch 108 - Loss 0.00019712951448168993 - Output 0.269855957014543\n",
            "\n",
            "Epoch 109 - Loss 0.0001868295585926707 - Output 0.26933026428131135\n",
            "\n",
            "Epoch 110 - Loss 0.00017707808957141027 - Output 0.26881903767844734\n",
            "\n",
            "Epoch 111 - Loss 0.00016784512899736625 - Output 0.26832185192590347\n",
            "\n",
            "Epoch 112 - Loss 0.00015910239424455402 - Output 0.2678382955600895\n",
            "\n",
            "Epoch 113 - Loss 0.0001508231983381234 - Output 0.26736797042478616\n",
            "\n",
            "Epoch 114 - Loss 0.00014298235603082046 - Output 0.2669104911833347\n",
            "\n",
            "Epoch 115 - Loss 0.00013555609569125275 - Output 0.2664654848511213\n",
            "\n",
            "Epoch 116 - Loss 0.0001285219766241983 - Output 0.2660325903474266\n",
            "\n",
            "Epoch 117 - Loss 0.00012185881146935764 - Output 0.2656114580657514\n",
            "\n",
            "Epoch 118 - Loss 0.00011554659334931854 - Output 0.265201749461777\n",
            "\n",
            "Epoch 119 - Loss 0.00010956642745999424 - Output 0.2648031366581542\n",
            "\n",
            "Epoch 120 - Loss 0.00010390046681778074 - Output 0.2644153020653596\n",
            "\n",
            "Epoch 121 - Loss 9.853185189705596e-05 - Output 0.26403793801788966\n",
            "\n",
            "Epoch 122 - Loss 9.344465390970694e-05 - Output 0.2636707464251011\n",
            "\n",
            "Epoch 123 - Loss 8.86238214951039e-05 - Output 0.26331343843603927\n",
            "\n",
            "Epoch 124 - Loss 8.405513060450737e-05 - Output 0.2629657341176277\n",
            "\n",
            "Epoch 125 - Loss 7.972513737832958e-05 - Output 0.2626273621456209\n",
            "\n",
            "Epoch 126 - Loss 7.562113382813515e-05 - Output 0.2622980595077545\n",
            "\n",
            "Epoch 127 - Loss 7.173110614772769e-05 - Output 0.26197757121855075\n",
            "\n",
            "Epoch 128 - Loss 6.804369548930131e-05 - Output 0.2616656500452655\n",
            "\n",
            "Epoch 129 - Loss 6.454816105143413e-05 - Output 0.2613620562444862\n",
            "\n",
            "Epoch 130 - Loss 6.123434533575778e-05 - Output 0.2610665573089157\n",
            "\n",
            "Epoch 131 - Loss 5.8092641438484426e-05 - Output 0.26077892772389577\n",
            "\n",
            "Epoch 132 - Loss 5.511396225170148e-05 - Output 0.2604989487332496\n",
            "\n",
            "Epoch 133 - Loss 5.228971145743645e-05 - Output 0.2602264081140385\n",
            "\n",
            "Epoch 134 - Loss 4.961175620506687e-05 - Output 0.2599610999598505\n",
            "\n",
            "Epoch 135 - Loss 4.707240136968352e-05 - Output 0.2597028244722538\n",
            "\n",
            "Epoch 136 - Loss 4.4664365295583046e-05 - Output 0.25945138776006815\n",
            "\n",
            "Epoch 137 - Loss 4.238075693518124e-05 - Output 0.25920660164612125\n",
            "\n",
            "Epoch 138 - Loss 4.021505429934633e-05 - Output 0.2589682834811737\n",
            "\n",
            "Epoch 139 - Loss 3.816108414047866e-05 - Output 0.2587362559647115\n",
            "\n",
            "Epoch 140 - Loss 3.621300279462207e-05 - Output 0.2585103469723181\n",
            "\n",
            "Epoch 141 - Loss 3.436527811353693e-05 - Output 0.2582903893893516\n",
            "\n",
            "Epoch 142 - Loss 3.261267242198474e-05 - Output 0.25807622095066557\n",
            "\n",
            "Epoch 143 - Loss 3.095022643952996e-05 - Output 0.2578676840861247\n",
            "\n",
            "Epoch 144 - Loss 2.937324410992024e-05 - Output 0.25766462577167604\n",
            "\n",
            "Epoch 145 - Loss 2.787727828465855e-05 - Output 0.2574668973857498\n",
            "\n",
            "Epoch 146 - Loss 2.6458117210659147e-05 - Output 0.25727435457077247\n",
            "\n",
            "Epoch 147 - Loss 2.5111771774965287e-05 - Output 0.25708685709958445\n",
            "\n",
            "Epoch 148 - Loss 2.3834463462408776e-05 - Output 0.2569042687465667\n",
            "\n",
            "Epoch 149 - Loss 2.2622612984758257e-05 - Output 0.2567264571632856\n",
            "\n",
            "Epoch 150 - Loss 2.147282954244838e-05 - Output 0.25655329375847724\n",
            "\n",
            "Epoch 151 - Loss 2.0381900682333878e-05 - Output 0.25638465358219753\n",
            "\n",
            "Epoch 152 - Loss 1.934678271713159e-05 - Output 0.2562204152139759\n",
            "\n",
            "Epoch 153 - Loss 1.836459167426938e-05 - Output 0.2560604606548132\n",
            "\n",
            "Epoch 154 - Loss 1.7432594743811852e-05 - Output 0.25590467522287413\n",
            "\n",
            "Epoch 155 - Loss 1.6548202196948276e-05 - Output 0.2557529474527321\n",
            "\n",
            "Epoch 156 - Loss 1.5708959748216457e-05 - Output 0.2556051689980261\n",
            "\n",
            "Epoch 157 - Loss 1.4912541336255878e-05 - Output 0.25546123453740194\n",
            "\n",
            "Epoch 158 - Loss 1.415674229934827e-05 - Output 0.25532104168360825\n",
            "\n",
            "Epoch 159 - Loss 1.34394729234395e-05 - Output 0.25518449089563083\n",
            "\n",
            "Epoch 160 - Loss 1.2758752341620491e-05 - Output 0.25505148539374717\n",
            "\n",
            "Epoch 161 - Loss 1.2112702765301729e-05 - Output 0.25492193107739264\n",
            "\n",
            "Epoch 162 - Loss 1.1499544028463769e-05 - Output 0.25479573644573256\n",
            "\n",
            "Epoch 163 - Loss 1.0917588427456984e-05 - Output 0.25467281252083945\n",
            "\n",
            "Epoch 164 - Loss 1.0365235839835325e-05 - Output 0.2545530727733774\n",
            "\n",
            "Epoch 165 - Loss 9.840969106685275e-06 - Output 0.25443643305070307\n",
            "\n",
            "Epoch 166 - Loss 9.343349663789609e-06 - Output 0.25432281150729236\n",
            "\n",
            "Epoch 167 - Loss 8.871013407830629e-06 - Output 0.2542121285374097\n",
            "\n",
            "Epoch 168 - Loss 8.422666784615118e-06 - Output 0.25410430670993656\n",
            "\n",
            "Epoch 169 - Loss 7.997083087064498e-06 - Output 0.2539992707052823\n",
            "\n",
            "Epoch 170 - Loss 7.593098951403167e-06 - Output 0.2538969472543013\n",
            "\n",
            "Epoch 171 - Loss 7.209611040651326e-06 - Output 0.25379726507914613\n",
            "\n",
            "Epoch 172 - Loss 6.845572905133494e-06 - Output 0.2537001548359855\n",
            "\n",
            "Epoch 173 - Loss 6.499992010312334e-06 - Output 0.25360554905952265\n",
            "\n",
            "Epoch 174 - Loss 6.171926922797065e-06 - Output 0.25351338210924945\n",
            "\n",
            "Epoch 175 - Loss 5.860484645899119e-06 - Output 0.25342359011737653\n",
            "\n",
            "Epoch 176 - Loss 5.5648180965857835e-06 - Output 0.25333611093837893\n",
            "\n",
            "Epoch 177 - Loss 5.2841237161512166e-06 - Output 0.253250884100103\n",
            "\n",
            "Epoch 178 - Loss 5.0176392073463396e-06 - Output 0.25316785075637926\n",
            "\n",
            "Epoch 179 - Loss 4.7646413911187735e-06 - Output 0.2530869536410898\n",
            "\n",
            "Epoch 180 - Loss 4.524444176497696e-06 - Output 0.2530081370236403\n",
            "\n",
            "Epoch 181 - Loss 4.296396637514948e-06 - Output 0.2529313466657886\n",
            "\n",
            "Epoch 182 - Loss 4.0798811913959716e-06 - Output 0.25285652977978385\n",
            "\n",
            "Epoch 183 - Loss 3.874311872574394e-06 - Output 0.25278363498777207\n",
            "\n",
            "Epoch 184 - Loss 3.6791326973821702e-06 - Output 0.25271261228242525\n",
            "\n",
            "Epoch 185 - Loss 3.4938161145535412e-06 - Output 0.2526434129887528\n",
            "\n",
            "Epoch 186 - Loss 3.3178615369512377e-06 - Output 0.25257598972705686\n",
            "\n",
            "Epoch 187 - Loss 3.150793950170318e-06 - Output 0.2525102963769923\n",
            "\n",
            "Epoch 188 - Loss 2.9921625939182486e-06 - Output 0.2524462880426958\n",
            "\n",
            "Epoch 189 - Loss 2.8415397122921437e-06 - Output 0.25238392101894846\n",
            "\n",
            "Epoch 190 - Loss 2.698519369287241e-06 - Output 0.2523231527583382\n",
            "\n",
            "Epoch 191 - Loss 2.562716326068514e-06 - Output 0.2522639418393892\n",
            "\n",
            "Epoch 192 - Loss 2.4337649767295998e-06 - Output 0.2522062479356272\n",
            "\n",
            "Epoch 193 - Loss 2.3113183394381608e-06 - Output 0.25215003178555023\n",
            "\n",
            "Epoch 194 - Loss 2.1950471000367124e-06 - Output 0.25209525516347614\n",
            "\n",
            "Epoch 195 - Loss 2.0846387053252315e-06 - Output 0.2520418808512375\n",
            "\n",
            "Epoch 196 - Loss 1.9797965034049065e-06 - Output 0.25198987261069894\n",
            "\n",
            "Epoch 197 - Loss 1.8802389285990194e-06 - Output 0.25193919515706853\n",
            "\n",
            "Epoch 198 - Loss 1.785698728604436e-06 - Output 0.25188981413297945\n",
            "\n",
            "Epoch 199 - Loss 1.6959222316542686e-06 - Output 0.2518416960833179\n",
            "\n",
            "Epoch 200 - Loss 1.6106686515857406e-06 - Output 0.25179480843077234\n",
            "\n",
            "Epoch 201 - Loss 1.52970942882767e-06 - Output 0.25174911945208306\n",
            "\n",
            "Epoch 202 - Loss 1.4528276054226124e-06 - Output 0.25170459825496955\n",
            "\n",
            "Epoch 203 - Loss 1.3798172323013533e-06 - Output 0.25166121475571424\n",
            "\n",
            "Epoch 204 - Loss 1.3104828071243588e-06 - Output 0.2516189396573834\n",
            "\n",
            "Epoch 205 - Loss 1.2446387410911735e-06 - Output 0.25157774442866465\n",
            "\n",
            "Epoch 206 - Loss 1.18210885320665e-06 - Output 0.25153760128330244\n",
            "\n",
            "Epoch 207 - Loss 1.1227258905715805e-06 - Output 0.2514984831601133\n",
            "\n",
            "Epoch 208 - Loss 1.0663310733423724e-06 - Output 0.25146036370356317\n",
            "\n",
            "Epoch 209 - Loss 1.012773663076104e-06 - Output 0.25142321724489\n",
            "\n",
            "Epoch 210 - Loss 9.619105532431687e-07 - Output 0.25138701878375397\n",
            "\n",
            "Epoch 211 - Loss 9.136058807582525e-07 - Output 0.2513517439704014\n",
            "\n",
            "Epoch 212 - Loss 8.677306574375947e-07 - Output 0.25131736908832536\n",
            "\n",
            "Epoch 213 - Loss 8.241624203475639e-07 - Output 0.251283871037408\n",
            "\n",
            "Epoch 214 - Loss 7.827849000696065e-07 - Output 0.25125122731753236\n",
            "\n",
            "Epoch 215 - Loss 7.434877059487642e-07 - Output 0.251219416012646\n",
            "\n",
            "Epoch 216 - Loss 7.061660274518827e-07 - Output 0.2511884157752671\n",
            "\n",
            "Epoch 217 - Loss 6.707203508001986e-07 - Output 0.2511582058114171\n",
            "\n",
            "Epoch 218 - Loss 6.370561900878033e-07 - Output 0.2511287658659685\n",
            "\n",
            "Epoch 219 - Loss 6.050838321383915e-07 - Output 0.25110007620839503\n",
            "\n",
            "Epoch 220 - Loss 5.747180943925116e-07 - Output 0.2510721176189136\n",
            "\n",
            "Epoch 221 - Loss 5.458780951524508e-07 - Output 0.25104487137500503\n",
            "\n",
            "Epoch 222 - Loss 5.184870355492616e-07 - Output 0.25101831923830326\n",
            "\n",
            "Epoch 223 - Loss 4.924719926287162e-07 - Output 0.2509924434418431\n",
            "\n",
            "Epoch 224 - Loss 4.6776372298315024e-07 - Output 0.25096722667765436\n",
            "\n",
            "Epoch 225 - Loss 4.4429647638930286e-07 - Output 0.25094265208469435\n",
            "\n",
            "Epoch 226 - Loss 4.22007818935715e-07 - Output 0.2509187032371073\n",
            "\n",
            "Epoch 227 - Loss 4.008384651548357e-07 - Output 0.2508953641328028\n",
            "\n",
            "Epoch 228 - Loss 3.807321186960893e-07 - Output 0.25087261918234255\n",
            "\n",
            "Epoch 229 - Loss 3.616353211035801e-07 - Output 0.2508504531981286\n",
            "\n",
            "Epoch 230 - Loss 3.434973082815542e-07 - Output 0.250828851383882\n",
            "\n",
            "Epoch 231 - Loss 3.262698742554399e-07 - Output 0.25080779932440606\n",
            "\n",
            "Epoch 232 - Loss 3.099072418543224e-07 - Output 0.2507872829756248\n",
            "\n",
            "Epoch 233 - Loss 2.943659399604794e-07 - Output 0.25076728865488873\n",
            "\n",
            "Epoch 234 - Loss 2.79604686990984e-07 - Output 0.25074780303154104\n",
            "\n",
            "Epoch 235 - Loss 2.655842802926284e-07 - Output 0.2507288131177368\n",
            "\n",
            "Epoch 236 - Loss 2.5226749114766423e-07 - Output 0.25071030625950735\n",
            "\n",
            "Epoch 237 - Loss 2.3961896510487255e-07 - Output 0.250692270128064\n",
            "\n",
            "Epoch 238 - Loss 2.276051273634036e-07 - Output 0.2506746927113337\n",
            "\n",
            "Epoch 239 - Loss 2.1619409295205087e-07 - Output 0.2506575623057202\n",
            "\n",
            "Epoch 240 - Loss 2.0535558145965057e-07 - Output 0.2506408675080852\n",
            "\n",
            "Epoch 241 - Loss 1.9506083608440256e-07 - Output 0.2506245972079419\n",
            "\n",
            "Epoch 242 - Loss 1.8528254678221222e-07 - Output 0.2506087405798568\n",
            "\n",
            "Epoch 243 - Loss 1.7599477730572327e-07 - Output 0.25059328707605294\n",
            "\n",
            "Epoch 244 - Loss 1.6717289593547978e-07 - Output 0.25057822641920874\n",
            "\n",
            "Epoch 245 - Loss 1.587935097157657e-07 - Output 0.2505635485954481\n",
            "\n",
            "Epoch 246 - Loss 1.5083440201692548e-07 - Output 0.2505492438475157\n",
            "\n",
            "Epoch 247 - Loss 1.4327447325504012e-07 - Output 0.2505353026681328\n",
            "\n",
            "Epoch 248 - Loss 1.3609368460844872e-07 - Output 0.25052171579352833\n",
            "\n",
            "Epoch 249 - Loss 1.2927300457881344e-07 - Output 0.25050847419714045\n",
            "\n",
            "Epoch 250 - Loss 1.227943582528191e-07 - Output 0.25049556908348447\n",
            "\n",
            "Epoch 251 - Loss 1.1664057912673969e-07 - Output 0.25048299188218176\n",
            "\n",
            "Epoch 252 - Loss 1.1079536336443586e-07 - Output 0.2504707342421461\n",
            "\n",
            "Epoch 253 - Loss 1.0524322636497134e-07 - Output 0.2504587880259226\n",
            "\n",
            "Epoch 254 - Loss 9.996946152280246e-08 - Output 0.25044714530417483\n",
            "\n",
            "Epoch 255 - Loss 9.4960101069914e-08 - Output 0.25043579835031793\n",
            "\n",
            "Epoch 256 - Loss 9.020187889328028e-08 - Output 0.2504247396352903\n",
            "\n",
            "Epoch 257 - Loss 8.568219522904363e-08 - Output 0.25041396182246445\n",
            "\n",
            "Epoch 258 - Loss 8.138908313703679e-08 - Output 0.2504034577626891\n",
            "\n",
            "Epoch 259 - Loss 7.731117666645411e-08 - Output 0.2503932204894622\n",
            "\n",
            "Epoch 260 - Loss 7.343768062654326e-08 - Output 0.25038324321422967\n",
            "\n",
            "Epoch 261 - Loss 6.975834188148228e-08 - Output 0.25037351932180674\n",
            "\n",
            "Epoch 262 - Loss 6.626342209188024e-08 - Output 0.2503640423659188\n",
            "\n",
            "Epoch 263 - Loss 6.294367183024357e-08 - Output 0.25035480606485866\n",
            "\n",
            "Epoch 264 - Loss 5.979030600070447e-08 - Output 0.250345804297257\n",
            "\n",
            "Epoch 265 - Loss 5.6794980496927774e-08 - Output 0.25033703109796257\n",
            "\n",
            "Epoch 266 - Loss 5.394977003597553e-08 - Output 0.25032848065402996\n",
            "\n",
            "Epoch 267 - Loss 5.124714710849135e-08 - Output 0.25032014730081165\n",
            "\n",
            "Epoch 268 - Loss 4.867996198880882e-08 - Output 0.25031202551815135\n",
            "\n",
            "Epoch 269 - Loss 4.6241423751629955e-08 - Output 0.2503041099266766\n",
            "\n",
            "Epoch 270 - Loss 4.392508224424855e-08 - Output 0.25029639528418735\n",
            "\n",
            "Epoch 271 - Loss 4.1724810966194095e-08 - Output 0.25028887648213793\n",
            "\n",
            "Epoch 272 - Loss 3.9634790810621763e-08 - Output 0.2502815485422112\n",
            "\n",
            "Epoch 273 - Loss 3.764949462364003e-08 - Output 0.2502744066129802\n",
            "\n",
            "Epoch 274 - Loss 3.5763672540625346e-08 - Output 0.2502674459666573\n",
            "\n",
            "Epoch 275 - Loss 3.397233806025209e-08 - Output 0.2502606619959267\n",
            "\n",
            "Epoch 276 - Loss 3.227075481896338e-08 - Output 0.25025405021085984\n",
            "\n",
            "Epoch 277 - Loss 3.065442403055932e-08 - Output 0.2502476062359092\n",
            "\n",
            "Epoch 278 - Loss 2.9119072557608358e-08 - Output 0.2502413258069814\n",
            "\n",
            "Epoch 279 - Loss 2.7660641582409214e-08 - Output 0.25023520476858435\n",
            "\n",
            "Epoch 280 - Loss 2.6275275847766078e-08 - Output 0.25022923907104927\n",
            "\n",
            "Epoch 281 - Loss 2.4959313438541845e-08 - Output 0.2502234247678237\n",
            "\n",
            "Epoch 282 - Loss 2.3709276076892793e-08 - Output 0.25021775801283486\n",
            "\n",
            "Epoch 283 - Loss 2.252185990522509e-08 - Output 0.25021223505792034\n",
            "\n",
            "Epoch 284 - Loss 2.1393926732365315e-08 - Output 0.2502068522503255\n",
            "\n",
            "Epoch 285 - Loss 2.0322495719713533e-08 - Output 0.25020160603026553\n",
            "\n",
            "Epoch 286 - Loss 1.9304735484980954e-08 - Output 0.2501964929285495\n",
            "\n",
            "Epoch 287 - Loss 1.833795660278317e-08 - Output 0.25019150956426656\n",
            "\n",
            "Epoch 288 - Loss 1.7419604481888958e-08 - Output 0.2501866526425309\n",
            "\n",
            "Epoch 289 - Loss 1.6547252600262025e-08 - Output 0.25018191895228514\n",
            "\n",
            "Epoch 290 - Loss 1.5718596079934787e-08 - Output 0.2501773053641599\n",
            "\n",
            "Epoch 291 - Loss 1.493144558457859e-08 - Output 0.25017280882838894\n",
            "\n",
            "Epoch 292 - Loss 1.4183721523451064e-08 - Output 0.25016842637277725\n",
            "\n",
            "Epoch 293 - Loss 1.3473448546458811e-08 - Output 0.2501641551007216\n",
            "\n",
            "Epoch 294 - Loss 1.2798750315628808e-08 - Output 0.25015999218928203\n",
            "\n",
            "Epoch 295 - Loss 1.2157844539044219e-08 - Output 0.25015593488730264\n",
            "\n",
            "Epoch 296 - Loss 1.1549038254131153e-08 - Output 0.25015198051358073\n",
            "\n",
            "Epoch 297 - Loss 1.0970723347744081e-08 - Output 0.2501481264550831\n",
            "\n",
            "Epoch 298 - Loss 1.0421372301007153e-08 - Output 0.2501443701652074\n",
            "\n",
            "Epoch 299 - Loss 9.899534147905637e-09 - Output 0.2501407091620891\n",
            "\n",
            "Epoch 300 - Loss 9.40383063655759e-09 - Output 0.2501371410269508\n"
          ]
        }
      ],
      "source": [
        "forw_backProp(0.1, 0.15, 0.45, 0.4, 0.65, T, lr, threshold, epochs)"
      ]
    },
    {
      "cell_type": "markdown",
      "id": "b484c821",
      "metadata": {
        "id": "b484c821"
      },
      "source": [
        "<br>\n",
        "<h2 align=center id=\"build_func_with_grph\">Building Function for Artificial Neural Network with Sigmoid Function and Loss Graph</h2>"
      ]
    },
    {
      "cell_type": "code",
      "execution_count": 26,
      "id": "0617cb32",
      "metadata": {
        "id": "0617cb32"
      },
      "outputs": [],
      "source": [
        "def prop_Visual(x_1, w_1, w_2, b_1, b_2, T, lr, treshold, epochs):\n",
        "\n",
        "  def sigmoid(x):\n",
        "    s = 1 / (1 + np.exp(-x))\n",
        "    ds = s * (1 - s)  \n",
        "    return s, ds\n",
        "  \n",
        "  epoch=[]\n",
        "  error=[]\n",
        "  \n",
        "  i = 0\n",
        "  while i < epochs:\n",
        "      \n",
        "      # Calculate z_1\n",
        "      z_1 = x_1 * w_1 + b_1\n",
        "      # Calculate a_1\n",
        "      a_1 = 1.0 / (1.0 + np.exp(-z_1))\n",
        "      # Calculate z_2\n",
        "      z_2 = a_1 * w_2 + b_2\n",
        "      # Calculate a_2\n",
        "      a_2 = 1.0 / (1.0 + np.exp(-z_2))        \n",
        "      # Calculate error between predicted value and the ground truth.\n",
        "      E = 1 / 2 * (T - a_2) ** 2\n",
        "\n",
        "      # Updating weights and biases\n",
        "      w_2 = w_2 - lr * (-(T - a_2)) * sigmoid(a_2)[1] * a_1\n",
        "      b_2 = b_2 - lr * (-(T - a_2)) * sigmoid(a_2)[1] * 1\n",
        "      w_1 = w_1 - lr * (-(T - a_2)) * sigmoid(a_2)[1] * w_2 * sigmoid(a_1)[1] * x_1\n",
        "      b_1 = b_1 - lr * (-(T - a_2)) * sigmoid(a_2)[1] * w_2 * sigmoid(a_1)[1] * 1     \n",
        "      error.append(E)\n",
        "      epoch.append(i)        \n",
        "      i+=1\n",
        "  \n",
        "  \n",
        "  plt.figure(figsize=(20, 10))\n",
        "  sns.set_style('whitegrid')\n",
        "  plt.title('Loss Graph')\n",
        "  plt.plot(epoch, error)\n",
        "  plt.xlabel('Epochs')\n",
        "  plt.ylabel('Loss')\n",
        "  plt.show()"
      ]
    },
    {
      "cell_type": "code",
      "execution_count": 27,
      "id": "d7817951",
      "metadata": {
        "colab": {
          "base_uri": "https://localhost:8080/",
          "height": 621
        },
        "id": "d7817951",
        "outputId": "38fe5c08-b0a5-4f99-ea72-e18e3b0f4605"
      },
      "outputs": [
        {
          "output_type": "display_data",
          "data": {
            "text/plain": [
              "<Figure size 1440x720 with 1 Axes>"
            ],
            "image/png": "[encoded data removed]"
          },
          "metadata": {
            "needs_background": "light"
          }
        }
      ],
      "source": [
        "prop_Visual(0.1, 0.15, 0.45, 0.4, 0.65, T, lr, threshold, epochs)"
      ]
    },
    {
      "cell_type": "markdown",
      "id": "ad688ff4",
      "metadata": {
        "id": "ad688ff4"
      },
      "source": [
        "<p>As we can see from the plot, our model working relatively great. \n",
        "\n",
        "Tips:</p>\n",
        "\n",
        "<ol>\n",
        "  <li>Small treshold : Slow convergence</li>\n",
        "  <li>Large treshold : Our error may not decrease on every iteration; may not converge.</li>\n",
        "  <li>Make sure that you are using treshold like <i>0.001</i>, <i>0.01</i>, <i>0.1</i> and etc.</li>\n",
        "</ol>"
      ]
    },
    {
      "cell_type": "markdown",
      "source": [
        "<br>\n",
        "\n",
        "<h1>Contact Me</h1>\n",
        "<p>If you have something to say to me please contact me:</p>\n",
        "\n",
        "<ul>\n",
        "  <li>Twitter: <a href=\"https://twitter.com/Doguilmak\">Doguilmak</a></li>\n",
        "  <li>Mail address: doguilmak@gmail.com</li>\n",
        "</ul>"
      ],
      "metadata": {
        "id": "Rr4N0vbBtTsm"
      },
      "id": "Rr4N0vbBtTsm"
    },
    {
      "cell_type": "code",
      "execution_count": 29,
      "id": "336bc1ea",
      "metadata": {
        "colab": {
          "base_uri": "https://localhost:8080/"
        },
        "id": "336bc1ea",
        "outputId": "7800fdf9-4632-47d1-df1a-9ca66c1ef9f6"
      },
      "outputs": [
        {
          "output_type": "stream",
          "name": "stdout",
          "text": [
            "Changes have been made to the project on 2022-12-05 14:42:48\n"
          ]
        }
      ],
      "source": [
        "from datetime import datetime\n",
        "print(f\"Changes have been made to the project on {datetime.now().strftime('%Y-%m-%d %H:%M:%S')}\")"
      ]
    }
  ],
  "metadata": {
    "kernelspec": {
      "display_name": "Python 3 (ipykernel)",
      "language": "python",
      "name": "python3"
    },
    "language_info": {
      "codemirror_mode": {
        "name": "ipython",
        "version": 3
      },
      "file_extension": ".py",
      "mimetype": "text/x-python",
      "name": "python",
      "nbconvert_exporter": "python",
      "pygments_lexer": "ipython3",
      "version": "3.9.7"
    },
    "colab": {
      "provenance": []
    }
  },
  "nbformat": 4,
  "nbformat_minor": 5
}